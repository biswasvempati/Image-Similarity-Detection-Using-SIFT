{
 "cells": [
  {
   "cell_type": "code",
   "execution_count": null,
   "metadata": {},
   "outputs": [],
   "source": [
    "import cv2\n",
    "import matplotlib.pyplot as plt\n",
    "\n",
    "import numpy as np\n",
    "import glob"
   ]
  },
  {
   "cell_type": "code",
   "execution_count": 2,
   "metadata": {},
   "outputs": [],
   "source": [
    "original = cv2.imread(r\"/Users/biswasvempati/Downloads/Image Similarity Detection Using SIFT/apple.jpeg\")\n",
    "# Sift and Flann\n",
    "sift = cv2.xfeatures2d.SIFT_create()\n",
    "kp_1, desc_1 = sift.detectAndCompute(original, None)"
   ]
  },
  {
   "cell_type": "code",
   "execution_count": 3,
   "metadata": {},
   "outputs": [],
   "source": [
    "index_params = dict(algorithm=0, trees=5)\n",
    "search_params = dict()\n",
    "flann = cv2.FlannBasedMatcher(index_params, search_params)"
   ]
  },
  {
   "cell_type": "code",
   "execution_count": 7,
   "metadata": {},
   "outputs": [],
   "source": [
    "# Load all the images\n",
    "all_images_to_compare = []\n",
    "titles = []\n",
    "for f in glob.iglob(\"/Users/biswasvempati/Downloads/Image Similarity Detection Using SIFT/*\"):\n",
    "    image = cv2.imread(f)\n",
    "    titles.append(f)\n",
    "    all_images_to_compare.append(image)"
   ]
  },
  {
   "cell_type": "code",
   "execution_count": null,
   "metadata": {
    "scrolled": false
   },
   "outputs": [
    {
     "name": "stdout",
     "output_type": "stream",
     "text": [
      "The images are completely Equal\n",
      "79\n",
      "Keypoints 1ST Image: 79\n",
      "Keypoints 2ND Image: 79\n",
      "GOOD Matches: 79\n",
      "How good it's the match:  100.0\n"
     ]
    }
   ],
   "source": [
    "for image_to_compare, title in zip(all_images_to_compare, titles):\n",
    "    ##Check if 2 images are equals\n",
    "    if original.shape == image_to_compare.shape:\n",
    "        #print(\"The images have same size and channels\")\n",
    "        difference = cv2.subtract(original, image_to_compare)\n",
    "        b, g, r = cv2.split(difference)\n",
    "\n",
    "        if cv2.countNonZero(b) == 0 and cv2.countNonZero(g) == 0 and cv2.countNonZero(r) == 0:\n",
    "            print(\"The images are completely Equal\")\n",
    "        else:\n",
    "            print(\"The images are NOT equal\")\n",
    "        \n",
    "            \n",
    "    ##Check for similarities between the 2 images\n",
    "    sift = cv2.xfeatures2d.SIFT_create()\n",
    "    kp_1, desc_1 = sift.detectAndCompute(original, None)\n",
    "    kp_2, desc_2 = sift.detectAndCompute(image_to_compare, None)\n",
    "\n",
    "    index_params = dict(algorithm=0, trees=5)\n",
    "    search_params = dict()\n",
    "    flann = cv2.FlannBasedMatcher(index_params, search_params)\n",
    "\n",
    "    matches = flann.knnMatch(desc_1, desc_2, k=2)\n",
    "    good_points = []\n",
    "    ratio = 0.6\n",
    "    for m, n in matches:\n",
    "        if m.distance < ratio*n.distance:\n",
    "            good_points.append(m)\n",
    "    print(len(good_points))\n",
    "    result = cv2.drawMatches(original, kp_1, image_to_compare, kp_2, good_points, None)\n",
    "        # Define how similar they are\n",
    "    number_keypoints = 0\n",
    "    if len(kp_1) <= len(kp_2):\n",
    "        number_keypoints = len(kp_1)\n",
    "    else:\n",
    "        number_keypoints = len(kp_2)\n",
    "    print(\"Keypoints 1ST Image: \" + str(len(kp_1)))\n",
    "    print(\"Keypoints 2ND Image: \" + str(len(kp_2)))\n",
    "    print(\"GOOD Matches:\", len(good_points))\n",
    "    print(\"How good it's the match: \",( len(good_points) / number_keypoints) * 100)\n",
    "    cv2.imshow(\"result\",result)\n",
    "    cv2.imwrite(\"feature_matching.jpg\", result)\n",
    "    cv2.waitKey(0)\n",
    "    cv2.destroyAllWindows()  \n",
    "   "
   ]
  }
 ],
 "metadata": {
  "kernelspec": {
   "display_name": "Python 3",
   "language": "python",
   "name": "python3"
  },
  "language_info": {
   "codemirror_mode": {
    "name": "ipython",
    "version": 3
   },
   "file_extension": ".py",
   "mimetype": "text/x-python",
   "name": "python",
   "nbconvert_exporter": "python",
   "pygments_lexer": "ipython3",
   "version": "3.7.4"
  }
 },
 "nbformat": 4,
 "nbformat_minor": 2
}
